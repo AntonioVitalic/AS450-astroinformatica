{
 "cells": [
  {
   "cell_type": "code",
   "execution_count": 1,
   "metadata": {
    "jupyter": {
     "source_hidden": true
    }
   },
   "outputs": [],
   "source": [
    "%matplotlib inline\n",
    "\n",
    "import numpy as np\n",
    "import matplotlib.pyplot as plt\n",
    "\n",
    "plt.style.use(['ggplot', 'assets/class.mplstyle'])\n",
    "\n",
    "red = '#E24A33'\n",
    "blue = '#348ABD'\n",
    "purple = '#988ED5'\n",
    "gray = '#777777'\n",
    "yellow = '#FBC15E'\n",
    "green = '#8EBA42'\n",
    "pink = '#FFB5B8'"
   ]
  },
  {
   "cell_type": "markdown",
   "metadata": {},
   "source": [
    "# Common Statistical Distributions in Astronomy"
   ]
  },
  {
   "cell_type": "markdown",
   "metadata": {},
   "source": [
    "We have already explored the classical treatment of the gaussian distribution. Let's now look at other probability distributions that arise in typical astronomical calculations."
   ]
  },
  {
   "cell_type": "markdown",
   "metadata": {},
   "source": [
    "## 1. The Binomial Distribuition\n",
    "\n",
    "*Counting Problems.*\n",
    "\n",
    "An experiment has two possible outcomes, generally thought of as *success* or *failure*. Say the probability of success is $\\rho$. If you make the experiment $N$ times, what is the chance of getting $n$ *successes*?:\n",
    "\n",
    "$$ p(n) = {N\\choose n} \\rho^n (1-\\rho)^{N-n} $$\n",
    "\n",
    "Obviously this distribution takes discrete values. The mean and variance of the RV $n$ is calculated as:\n",
    "\n",
    "$$ E(n) = \\sum_{n=0}^N n p(n) = N \\times \\rho \\\\\n",
    "Var(n) = \\sum_{n=0}^N (n-N\\rho)^2 p(n) = N \\rho (1-\\rho)$$"
   ]
  },
  {
   "cell_type": "code",
   "execution_count": 2,
   "metadata": {},
   "outputs": [],
   "source": [
    "from scipy.stats import binom\n",
    "\n",
    "np.random.seed(4523)\n",
    "\n",
    "N = 20\n",
    "rho = 0.275\n",
    "\n",
    "binomial_rv = binom(N, rho)"
   ]
  },
  {
   "cell_type": "markdown",
   "metadata": {},
   "source": [
    "We can look at its moments:"
   ]
  },
  {
   "cell_type": "code",
   "execution_count": 3,
   "metadata": {},
   "outputs": [
    {
     "name": "stdout",
     "output_type": "stream",
     "text": [
      "E(x)=5.5, Var(x)=3.9875, Sigma(x)=0.225, K(x)=-0.049\n"
     ]
    }
   ],
   "source": [
    "E, V, S, K = binomial_rv.stats(moments='mvsk')\n",
    "print('E(x)={}, Var(x)={}, Sigma(x)={:.3f}, K(x)={:.3f}'.format(E, V, S, K))"
   ]
  },
  {
   "cell_type": "code",
   "execution_count": 4,
   "metadata": {},
   "outputs": [
    {
     "data": {
      "image/png": "[encoded data removed]",
      "text/plain": [
       "<Figure size 432x288 with 1 Axes>"
      ]
     },
     "metadata": {
      "needs_background": "light"
     },
     "output_type": "display_data"
    }
   ],
   "source": [
    "n_to_plot = np.arange(N+1)\n",
    "\n",
    "plt.plot(n_to_plot, binomial_rv.pmf(n_to_plot), color=red, ls='None', \n",
    "         marker='o')\n",
    "plt.vlines(n_to_plot, binomial_rv.pmf(n_to_plot), 0, color=red)\n",
    "\n",
    "mean = N * rho\n",
    "plt.axvline(mean, color=blue, label=\"E(n)\")\n",
    "\n",
    "plt.xlabel('$n$')\n",
    "plt.ylabel('PMF($n$)')\n",
    "\n",
    "_= plt.legend()"
   ]
  },
  {
   "cell_type": "markdown",
   "metadata": {},
   "source": [
    "---\n",
    "### Example 2\n",
    "\n",
    "We have studied a sample of 60 globular clusters and found that 10 of them have a black hole in their center. We want to know more about black holes in globular clusters so we design a new survey. We will study 20 globular clusters. In our proposal we must place a constrain on the number of new Black Holes we expect to find. For example, what is the chance we will find 10 or more BHs among our 20 GCs?"
   ]
  },
  {
   "cell_type": "markdown",
   "metadata": {},
   "source": [
    "### Solution\n",
    "\n",
    "If we assume that our original sample is representative, then we can say that $\\rho=10/60$. With that, we can calculate the PMF."
   ]
  },
  {
   "cell_type": "code",
   "execution_count": 5,
   "metadata": {},
   "outputs": [],
   "source": [
    "N = 20\n",
    "rho = 10 / 60\n",
    "\n",
    "bh_rv = binom(N, rho)"
   ]
  },
  {
   "cell_type": "code",
   "execution_count": 6,
   "metadata": {},
   "outputs": [
    {
     "data": {
      "text/plain": [
       "Text(0,0.5,'BH PMF($n$)')"
      ]
     },
     "execution_count": 6,
     "metadata": {},
     "output_type": "execute_result"
    },
    {
     "data": {
      "image/png": "[encoded data removed]",
      "text/plain": [
       "<Figure size 432x288 with 1 Axes>"
      ]
     },
     "metadata": {
      "needs_background": "light"
     },
     "output_type": "display_data"
    }
   ],
   "source": [
    "n_to_plot = np.arange(N+1)\n",
    "\n",
    "plt.plot(n_to_plot, bh_rv.pmf(n_to_plot), color=red, ls='None', \n",
    "         marker='o')\n",
    "plt.vlines(n_to_plot, bh_rv.pmf(n_to_plot), 0, color=red)\n",
    "\n",
    "plt.xlabel('$n$')\n",
    "plt.ylabel('BH PMF($n$)')"
   ]
  },
  {
   "cell_type": "code",
   "execution_count": 7,
   "metadata": {},
   "outputs": [
    {
     "name": "stdout",
     "output_type": "stream",
     "text": [
      "The chance of finding 10 BHs among 20 GCs is: 0.060%\n"
     ]
    }
   ],
   "source": [
    "chance_of_10_to_20 = bh_rv.pmf(range(10, 21))\n",
    "chance_of_10plus = np.sum(chance_of_10_to_20)\n",
    "\n",
    "print(\"The chance of finding 10 BHs among 20 GCs is: {:.3f}%\".format(100*chance_of_10plus))"
   ]
  },
  {
   "cell_type": "markdown",
   "metadata": {},
   "source": [
    "Notice that we started by estimating $\\rho = \\bar{\\rho} =10/60$. This is reasonable for the Binomial Distribution but what about the confidence for this value? Let's see how the Bootstrap behaves here.\n",
    "\n",
    "This is what we will do:\n",
    "\n",
    "- Start by assuming the parent $\\rho = 1/6$, and make many samples from the binomial.\n",
    "- For each sample, come up with an estimate of $\\bar{\\rho}$\n",
    "- Make a histogram of $\\bar{\\rho} - \\rho$\n",
    "\n",
    "This is the reference for the distribution of $\\bar{\\rho} - \\rho$. Now to the Bootstrap:\n",
    "\n",
    "- Make a reference sample with 10 Trues (represented by 1), and 50 Falses (represented by 0)\n",
    "- Make samples with replacement out of that sample\n",
    "- Each time, estimate $\\rho^*$\n",
    "- Make a histogram of $\\rho^*-\\bar{\\rho}$"
   ]
  },
  {
   "cell_type": "code",
   "execution_count": 8,
   "metadata": {},
   "outputs": [],
   "source": [
    "# The reference sample with assumed known rho\n",
    "\n",
    "rho = 10/60\n",
    "N_sample = 60\n",
    "\n",
    "N_mc = 100000\n",
    "\n",
    "survey_rv = binom(N_sample, rho)\n",
    "rho_mc = survey_rv.rvs(size=N_mc) / N_sample\n",
    "\n",
    "x_mc, n_mc = np.unique(rho_mc - rho, return_counts=True)"
   ]
  },
  {
   "cell_type": "code",
   "execution_count": 9,
   "metadata": {},
   "outputs": [
    {
     "name": "stdout",
     "output_type": "stream",
     "text": [
      "Total number of BHs in the sample: 10.0\n"
     ]
    }
   ],
   "source": [
    "# The Bootstrap\n",
    "\n",
    "survey_sample = np.zeros(N_sample)\n",
    "survey_sample[:10] = 1.\n",
    "print(\"Total number of BHs in the sample: {}\".format(np.sum(survey_sample)))"
   ]
  },
  {
   "cell_type": "code",
   "execution_count": 10,
   "metadata": {},
   "outputs": [],
   "source": [
    "N_boot = 100000\n",
    "\n",
    "indices = np.random.randint(0, high=N_sample, size=(N_sample, N_boot))\n",
    "bootstrap_means = survey_sample[indices].sum(axis=0) / N_sample\n",
    "\n",
    "x_boot, n_boot = np.unique(bootstrap_means - rho, return_counts=True)"
   ]
  },
  {
   "cell_type": "code",
   "execution_count": 11,
   "metadata": {},
   "outputs": [
    {
     "data": {
      "image/png": "[encoded data removed]",
      "text/plain": [
       "<Figure size 432x288 with 1 Axes>"
      ]
     },
     "metadata": {
      "needs_background": "light"
     },
     "output_type": "display_data"
    }
   ],
   "source": [
    "plt.plot(x_mc, n_mc/N_mc, marker='o', ls='None', mec=red, mfc='None', mew=2.,\n",
    "         label=r'$\\bar{\\rho}-\\rho$')\n",
    "plt.plot(x_boot, n_boot/N_boot, marker='x', ls='None', color=blue, mew=2.,\n",
    "        label=r'$\\rho^*-\\bar{\\rho}$')\n",
    "\n",
    "plt.ylabel('Number density')\n",
    "_= plt.legend()"
   ]
  },
  {
   "cell_type": "markdown",
   "metadata": {},
   "source": [
    "---"
   ]
  },
  {
   "cell_type": "markdown",
   "metadata": {},
   "source": [
    "## 2. The Poisson Distribuition\n",
    "\n",
    "*Photons in a detector.*\n",
    "\n",
    "In the limiting case of a Binomial Distribution, when $\\rho\\to0$ (very small chance) but $E(n)=(N\\times\\rho)\\to \\mu$, some finite value, the expression for the Binomial Distribution PMF approaches the expression:\n",
    "\n",
    "$$ p(n) = \\frac{\\mu^n}{n!}e^{-\\mu} $$\n",
    "\n",
    "which is the PMF for the Poisson Distribution. The mean and variance of the Possion distribution are both $\\mu$:\n",
    "\n",
    "$$ E(n) = Var(n) = \\mu $$\n",
    "\n"
   ]
  },
  {
   "cell_type": "markdown",
   "metadata": {},
   "source": [
    "The classical Astronomical context is that of the photon arrival from a given source. For example, an AGN emits a very large number of X-ray photons but only a small number of them arrives in our detector in a given span of time. So, the probability of detecting any given photon is very small (that is $\\rho$ is small for the Binomial), but the mean ($N\\times\\rho$) is not small because of the huge number of photons emitted by the AGN."
   ]
  },
  {
   "cell_type": "code",
   "execution_count": 12,
   "metadata": {},
   "outputs": [],
   "source": [
    "from scipy.stats import poisson\n",
    "\n",
    "mu = 2.\n",
    "poisson_rv = poisson(mu)"
   ]
  },
  {
   "cell_type": "code",
   "execution_count": 13,
   "metadata": {},
   "outputs": [
    {
     "name": "stdout",
     "output_type": "stream",
     "text": [
      "E(x)=2.0, Var(x)=2.0, Sigma(x)=0.707, K(x)=0.500\n"
     ]
    }
   ],
   "source": [
    "E, V, S, K = poisson_rv.stats(moments='mvsk')\n",
    "print('E(x)={}, Var(x)={}, Sigma(x)={:.3f}, K(x)={:.3f}'.format(E, V, S, K))"
   ]
  },
  {
   "cell_type": "code",
   "execution_count": 14,
   "metadata": {},
   "outputs": [
    {
     "data": {
      "image/png": "[encoded data removed]",
      "text/plain": [
       "<Figure size 432x288 with 1 Axes>"
      ]
     },
     "metadata": {
      "needs_background": "light"
     },
     "output_type": "display_data"
    }
   ],
   "source": [
    "N_max = 25\n",
    "n_to_plot = np.arange(N_max)\n",
    "\n",
    "mu_values = [2, 5, 10]\n",
    "\n",
    "for mu in mu_values:\n",
    "    _ = plt.plot(n_to_plot, poisson.pmf(mu, n_to_plot), ls='None', \n",
    "                 marker='o', label='$\\mu={}$'.format(mu))\n",
    "    plt.vlines(n_to_plot, poisson.pmf(mu, n_to_plot), 0, color=_[0].get_color())\n",
    "\n",
    "plt.xlabel('$n$')\n",
    "plt.ylabel('PMF($n$)')\n",
    "\n",
    "_= plt.legend()"
   ]
  },
  {
   "cell_type": "markdown",
   "metadata": {},
   "source": [
    "---\n",
    "### Example 3\n",
    "\n",
    "Suppose the photons from a source arrive at our detector at an average rate $\\lambda$ (photons per unit time). Determine how does the Signal to Noise ratio (S/N) behave with integration time $t$\n",
    "\n",
    "### Solution\n",
    "\n",
    "**Case 1) We only get the source photons.**\n",
    "\n",
    "The Signal is the mean flux we get in a time interval $t$. That will be $\\mu=\\lambda t$, the mean of the Poisson distribution. The noise, is the standar deviation on that RV, $\\sigma=\\sqrt{\\mu}=\\sqrt{\\lambda t}$. Combining both:\n",
    "\n",
    "$$ S/N \\propto \\sqrt{\\lambda t} $$\n",
    "\n",
    "**Case 2) We get photons from the source but the background photons from the sky dominate**\n",
    "\n",
    "The Signal stays the same, but now we also get photons from another source that contribute to the Noise. Now $\\sigma=\\sqrt{\\mu + \\mu_{sky}}\\sim\\sqrt{\\lambda_{sky} t}$.\n",
    "\n",
    "$$ S/N \\propto \\frac{\\lambda}{\\sqrt{\\lambda_{sky}}}\\sqrt{t} $$\n",
    "\n",
    "\n",
    "There are other cases of interest that we will explore further when talking about astronomical data. You can also skim \"Practical Statistics for Astronomers\", Ch. 2.4.2.2.\n",
    "\n",
    "---"
   ]
  },
  {
   "cell_type": "markdown",
   "metadata": {},
   "source": [
    "## 3. The Pareto (power-law) Distribuition.\n",
    "\n"
   ]
  },
  {
   "cell_type": "code",
   "execution_count": null,
   "metadata": {},
   "outputs": [],
   "source": []
  },
  {
   "cell_type": "code",
   "execution_count": null,
   "metadata": {},
   "outputs": [],
   "source": []
  },
  {
   "cell_type": "code",
   "execution_count": null,
   "metadata": {},
   "outputs": [],
   "source": []
  },
  {
   "cell_type": "code",
   "execution_count": null,
   "metadata": {},
   "outputs": [],
   "source": []
  },
  {
   "cell_type": "code",
   "execution_count": null,
   "metadata": {},
   "outputs": [],
   "source": []
  },
  {
   "cell_type": "markdown",
   "metadata": {},
   "source": [
    "## 5. The Central Limit Theorem.\n",
    "\n",
    "Crude intuitive (useful) version (from \"Practical Statistics for Astronomers\" Ch. 2.4.2.3):\n",
    "\n",
    "If you make averages $M_n$ from repeatedly drawing $n$ samples from a RV with finite mean $\\mu$ and variance $\\sigma^2$. Then for large $n$, the distribution of: \n",
    "\n",
    "$$ \\left[ \\frac{(M_n-\\mu)}{\\sigma/\\sqrt{n}} \\right] \\to \\mathcal{N}(0, 1) $$\n",
    "\n",
    "Let's reproduce the example from \"Practical Statistics for Astronomers\" Ch. 2.4.2.3. We will consider an exponential distribution: $pdf(x)\\propto e^{-x}$, $x\\geq0$."
   ]
  },
  {
   "cell_type": "code",
   "execution_count": 15,
   "metadata": {},
   "outputs": [
    {
     "name": "stdout",
     "output_type": "stream",
     "text": [
      "E(x)=1.0, Var(x)=1.0, Sigma(x)=2.0, K(x)=6.0\n"
     ]
    }
   ],
   "source": [
    "from scipy.stats import expon\n",
    "\n",
    "exp_rv = expon()\n",
    "\n",
    "N_sample = 200\n",
    "sample = exp_rv.rvs(size=200)\n",
    "\n",
    "E, V, S, K = expon.stats(moments='mvsk')\n",
    "print('E(x)={}, Var(x)={}, Sigma(x)={}, K(x)={}'.format(E, V, S, K))"
   ]
  },
  {
   "cell_type": "code",
   "execution_count": 16,
   "metadata": {},
   "outputs": [
    {
     "data": {
      "image/png": "[encoded data removed]",
      "text/plain": [
       "<Figure size 432x288 with 1 Axes>"
      ]
     },
     "metadata": {
      "needs_background": "light"
     },
     "output_type": "display_data"
    }
   ],
   "source": [
    "plt.hist(sample, bins=15, density=True, alpha=0.5, label='Sample')\n",
    "\n",
    "x_to_plot = np.linspace(0, 5, 100)\n",
    "plt.plot(x_to_plot, np.exp(-x_to_plot), label='pdf')\n",
    "\n",
    "plt.xlabel('$x$')\n",
    "plt.ylabel('Number Density')\n",
    "\n",
    "_= plt.legend()"
   ]
  },
  {
   "cell_type": "markdown",
   "metadata": {},
   "source": [
    "We see that a sample of 200 values follows the exponential closely.\n",
    "\n",
    "Now, we will draw 20 values from the exponential and take their mean. We will repeat 200 times and look at the histogram of these $M_{20}$ averages."
   ]
  },
  {
   "cell_type": "code",
   "execution_count": 17,
   "metadata": {},
   "outputs": [],
   "source": [
    "sample = expon.rvs(size=(20, 200))\n",
    "m_20 = sample.mean(axis=0)"
   ]
  },
  {
   "cell_type": "code",
   "execution_count": 18,
   "metadata": {},
   "outputs": [
    {
     "data": {
      "image/png": "[encoded data removed]",
      "text/plain": [
       "<Figure size 432x288 with 1 Axes>"
      ]
     },
     "metadata": {
      "needs_background": "light"
     },
     "output_type": "display_data"
    }
   ],
   "source": [
    "from scipy.stats import norm\n",
    "\n",
    "plt.hist(m_20, bins=20, density=True, alpha=0.5, label='$M_{20}$')\n",
    "\n",
    "# Estimate of the distribution from the CLT\n",
    "x_to_plot = np.linspace(0, 2, 100)\n",
    "plt.plot(x_to_plot, norm.pdf(x_to_plot, loc=E, scale=np.sqrt(V)/np.sqrt(20)),\n",
    "         label='CLT')\n",
    "\n",
    "plt.xlabel('$x$')\n",
    "plt.ylabel('Number Density')\n",
    "\n",
    "_= plt.legend()"
   ]
  },
  {
   "cell_type": "code",
   "execution_count": null,
   "metadata": {},
   "outputs": [],
   "source": []
  }
 ],
 "metadata": {
  "kernelspec": {
   "display_name": "Python 3",
   "language": "python",
   "name": "python3"
  },
  "language_info": {
   "codemirror_mode": {
    "name": "ipython",
    "version": 3
   },
   "file_extension": ".py",
   "mimetype": "text/x-python",
   "name": "python",
   "nbconvert_exporter": "python",
   "pygments_lexer": "ipython3",
   "version": "3.6.7"
  }
 },
 "nbformat": 4,
 "nbformat_minor": 4
}
