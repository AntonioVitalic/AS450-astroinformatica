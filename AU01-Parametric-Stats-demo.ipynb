{
 "cells": [
  {
   "cell_type": "markdown",
   "metadata": {},
   "source": [
    "# Parametric Statistics and Bayesian Parameter Estimation\n",
    "### Course: Astroinformatics\n",
    "### Profs: Valentino Gonzalez; Francisco Forster\n",
    "### Author: Jose Vines\n",
    "### Mail: jose.vines@ug.uchile.cl"
   ]
  },
  {
   "cell_type": "markdown",
   "metadata": {},
   "source": [
    "In this demo we are going to review parametric statistics combined with bayesian statistics.\n",
    "\n",
    "First let's recall the Bayes' Theorem, given observed data $X$ and a parameter vector $\\hat{\\theta}$ corresponding to model $M$"
   ]
  },
  {
   "cell_type": "markdown",
   "metadata": {},
   "source": [
    "$$P\\left(\\hat{\\theta} | X, M\\right) = \\frac{P\\left(X|\\hat{\\theta}, M\\right)P\\left(\\hat{\\theta}|M\\right)}{P(X|M)}$$"
   ]
  },
  {
   "cell_type": "markdown",
   "metadata": {},
   "source": [
    "Where $P\\left(X|\\hat{\\theta}, M\\right)$ is the likelihood function and $P\\left(\\hat{\\theta}|M\\right)$ is the prior function. The denominator, $P(X|M)$, is called the marginalized distribution of the dataset over all parameter values in model $M$, also called marginal likelihood or model evidence. This number is essential for a number of applications, but can be very hard to compute, luckily we can disregard it as a normalization factor. On the left side we find $P\\left(\\hat{\\theta} | X, M\\right)$, the posterior distribution, which is what we are interested in."
   ]
  },
  {
   "cell_type": "markdown",
   "metadata": {},
   "source": [
    "## Why do bayesian estimations when a $\\chi^2$ minimization or similar approaches are so much faster?\n",
    "\n",
    "The most important reasons to use bayesian statistics are two-fold:\n",
    "1. With bayesian statistics we can incorporate prior beliefs into the modeling.\n",
    "2. Bayesian estimates provide a posterior **distribution** from which we can compute a number of statistics, whereas a simple $\\chi^2$ approach usually provides a number."
   ]
  },
  {
   "cell_type": "markdown",
   "metadata": {},
   "source": [
    "We'll use PyMC3 for this demonstration, you can install with via pypi with `pip install pymc3` or with conda through `conda install -c conda-forge pymc3`"
   ]
  },
  {
   "cell_type": "code",
   "execution_count": 1,
   "metadata": {},
   "outputs": [
    {
     "name": "stdout",
     "output_type": "stream",
     "text": [
      "Running PyMC3 v3.9.3\n"
     ]
    }
   ],
   "source": [
    "import pymc3 as pm\n",
    "print(f'Running PyMC3 v{pm.__version__}')"
   ]
  },
  {
   "cell_type": "markdown",
   "metadata": {},
   "source": [
    "We're going to estimate the $\\rho$ parameter from the binomial distribution given some data\n",
    "\n",
    "Remember the binomial distribution's probability mass function\n",
    "$$\n",
    "P\\left(X = k\\right) = {n\\choose k} \\rho^k(1-\\rho)^{n-k}\n",
    "$$\n",
    "Where $${n \\choose k} = \\frac{n!}{k!(n-k)!}$$ is the usual combination formula, n is the number of experiments and k is the number of 'succeses'."
   ]
  },
  {
   "cell_type": "markdown",
   "metadata": {},
   "source": [
    "Take the study by Tokovinin 2014 where he studied a sample of 4847 stars in a sample from the Hipparcos catalog, he found that 2196 of these stars were in multiple systems (i.e. systems with more than 1 star). We are interested in knowing the distribution of the stellar multiplicity factor, ideally we would observe a larger number of stars and study them in detail to see if they have stellar companions or not, but this is too expensive, so we resort to simulations. We carry out 150 simulations of 500 stellar systems and saved our results in a file called Simulations.dat"
   ]
  },
  {
   "cell_type": "markdown",
   "metadata": {},
   "source": [
    "First let's do some basic imports"
   ]
  },
  {
   "cell_type": "code",
   "execution_count": 2,
   "metadata": {},
   "outputs": [],
   "source": [
    "import numpy as np\n",
    "import matplotlib.pyplot as plt\n",
    "import arviz as az  # We'll use this to visualize PyMC3 things!"
   ]
  },
  {
   "cell_type": "markdown",
   "metadata": {},
   "source": [
    "[ArviZ](https://arviz-devs.github.io/arviz/) is a tool for exploratory analysis of Bayesian models, so we'll make use of it here to aid in visualization"
   ]
  },
  {
   "cell_type": "code",
   "execution_count": 3,
   "metadata": {},
   "outputs": [],
   "source": [
    "az.style.use('arviz-darkgrid')\n",
    "%matplotlib inline"
   ]
  },
  {
   "cell_type": "code",
   "execution_count": 4,
   "metadata": {},
   "outputs": [],
   "source": [
    "sims = np.loadtxt('assets/Simulations.dat')"
   ]
  },
  {
   "cell_type": "markdown",
   "metadata": {},
   "source": [
    "sims corresponds to the number of multiple stellar systems out of 500 simulated systems for 150 simulations and it looks like this:"
   ]
  },
  {
   "cell_type": "code",
   "execution_count": 5,
   "metadata": {},
   "outputs": [
    {
     "data": {
      "text/plain": [
       "array([237., 225., 242., 222., 239., 240., 237., 233., 234., 230., 215.,\n",
       "       248., 222., 230., 232., 234., 241., 249., 234., 231., 247., 229.,\n",
       "       237., 234., 212., 228., 235., 227., 213., 221., 249., 238., 211.,\n",
       "       236., 227., 232., 218., 205., 235., 221., 231., 242., 227., 206.,\n",
       "       252., 236., 218., 220., 237., 218., 213., 213., 244., 229., 250.,\n",
       "       239., 243., 223., 230., 245., 225., 222., 227., 227., 224., 213.,\n",
       "       236., 251., 239., 240., 233., 237., 226., 235., 247., 237., 232.,\n",
       "       240., 233., 227., 233., 211., 242., 256., 224., 221., 226., 216.,\n",
       "       225., 210., 242., 226., 240., 240., 219., 242., 224., 248., 244.,\n",
       "       233., 223., 237., 243., 256., 227., 232., 236., 221., 227., 233.,\n",
       "       234., 244., 233., 246., 250., 248., 242., 231., 228., 221., 222.,\n",
       "       223., 215., 206., 213., 215., 223., 230., 252., 225., 215., 236.,\n",
       "       226., 221., 230., 232., 236., 228., 235., 234., 234., 240., 233.,\n",
       "       241., 239., 233., 217., 245., 245., 250.])"
      ]
     },
     "execution_count": 5,
     "metadata": {},
     "output_type": "execute_result"
    }
   ],
   "source": [
    "sims"
   ]
  },
  {
   "cell_type": "markdown",
   "metadata": {},
   "source": [
    "Now that we have our data and problem defined we need to build our model, with PyMC3 defining a model is fairly straightforward.\n",
    "\n",
    "The first step is coming up with a prior distribution, but we have no information other that $\\rho\\,\\in\\,[0, 1]$, thus we'll use a uniform prior. $$\\rho \\sim U\\left(0, 1\\right)$$ Naturally, our log likelihood will be the binomial distribution $$Y\\sim B\\left(N, \\rho\\right)$$ where $N$ is the number of experiments, in this case, the number of simulations.\n",
    "While the log likelihood is easy to calculate analiticaly, PyMC3 already comes with a handful of continuous and discrete distributions. [You can check the API for information on the implemented distributions.](https://docs.pymc.io/api/distributions.html)\n",
    "\n",
    "Now we just have to write up our model. With PyMC3 this is done like this"
   ]
  },
  {
   "cell_type": "code",
   "execution_count": 6,
   "metadata": {},
   "outputs": [],
   "source": [
    "model = pm.Model()\n",
    "with model:\n",
    "    # First we set up the prior\n",
    "    rho = pm.Uniform('rho', 0.001, .999)\n",
    "    # And now we'll set up the log likelihood. Remember we did 150 simulations\n",
    "    Y = pm.Binomial('Y', n=500, p=rho, observed=sims)"
   ]
  },
  {
   "cell_type": "markdown",
   "metadata": {},
   "source": [
    "Let's explain what's happening here.\n",
    "\n",
    "The line `model = pm.Model():` creates a new Model object which is a container for the model's random variables and the next line creates a context manager with the `with` statement that sets the model as the context. This means all PyMC3 objects introduced within the block below the `with` statement are added to the model automatically for us!\n",
    "\n",
    "The line `rho = pm.Uniform('rho', 0, 1)` creates a **stochastic** random variable with a Uniform prior distribution with a lower and upper boundary of 0 and 1 respectively. The first argument (for any distribution class) is **always** the name of the random variable (which _should_ match the name of the variable assigned to it), the remaining arguments are the boundaries for the Uniform distribution. Remember to [check the API documentation](https://docs.pymc.io/api/distributions.html) for specific information of your distributions.\n",
    "\n",
    "The final line `Y = pm.Binomial('Y', 150, rho)` defines the sampling distribution of the outcomes in the dataset!"
   ]
  },
  {
   "cell_type": "markdown",
   "metadata": {},
   "source": [
    "Now that we defined our model, we need to get posterior estimates for the unknown variable, $\\rho$. There are a couple of ways to do this, one would be the **maximum a posteriori (MAP)** estimate which gives a parameter point, but we're not interested in knowing a single point, we're looking for a whole distribution for $\\rho$. The best approach for the latter is using **Markov Chain Monte Carlo (MCMC)** methods, so we'll do just that!"
   ]
  },
  {
   "cell_type": "markdown",
   "metadata": {},
   "source": [
    "To do MCMC in PyMC3 we need to define a **step method** object, which corresponds to a specific MCMC algorithm (for example, the Metropolis algorithm). PyMC3's _step\\_methods_ submodule contains the following samples: No-U-Turn Sampler (NUTS), Metropolis, Slice, HamiltonianMC, and BinaryMetropolis. You can assign the step methods manually, but PyMC3 has an auto-assignment algorithm based on the attributes of each variable in the model, these are\n",
    "- Binary vairables -> BinaryMetropolis\n",
    "- Discrete variables -> Metropolis\n",
    "- Continuous variables -> NUTS"
   ]
  },
  {
   "cell_type": "markdown",
   "metadata": {},
   "source": [
    "Now we'll sample the posterior space"
   ]
  },
  {
   "cell_type": "code",
   "execution_count": 7,
   "metadata": {},
   "outputs": [
    {
     "name": "stderr",
     "output_type": "stream",
     "text": [
      "Auto-assigning NUTS sampler...\n",
      "Initializing NUTS using jitter+adapt_diag...\n",
      "Multiprocess sampling (4 chains in 4 jobs)\n",
      "NUTS: [rho]\n"
     ]
    },
    {
     "data": {
      "text/html": [
       "\n",
       "    <div>\n",
       "        <style>\n",
       "            /* Turns off some styling */\n",
       "            progress {\n",
       "                /* gets rid of default border in Firefox and Opera. */\n",
       "                border: none;\n",
       "                /* Needs to be in here for Safari polyfill so background images work as expected. */\n",
       "                background-size: auto;\n",
       "            }\n",
       "            .progress-bar-interrupted, .progress-bar-interrupted::-webkit-progress-bar {\n",
       "                background: #F44336;\n",
       "            }\n",
       "        </style>\n",
       "      <progress value='44000' class='' max='44000' style='width:300px; height:20px; vertical-align: middle;'></progress>\n",
       "      100.00% [44000/44000 00:09<00:00 Sampling 4 chains, 0 divergences]\n",
       "    </div>\n",
       "    "
      ],
      "text/plain": [
       "<IPython.core.display.HTML object>"
      ]
     },
     "metadata": {},
     "output_type": "display_data"
    },
    {
     "name": "stderr",
     "output_type": "stream",
     "text": [
      "Sampling 4 chains for 1_000 tune and 10_000 draw iterations (4_000 + 40_000 draws total) took 24 seconds.\n"
     ]
    }
   ],
   "source": [
    "with model:\n",
    "    # Draw 10000 posterior samples\n",
    "    trace = pm.sample(10000, return_inferencedata=False)"
   ]
  },
  {
   "cell_type": "markdown",
   "metadata": {},
   "source": [
    "trace now holds information about our recent fit. For now we're just interested in the samples of our parameters which we can easily acces as a dictionary"
   ]
  },
  {
   "cell_type": "markdown",
   "metadata": {},
   "source": [
    "We'll now visualize what just happened using [ArviZ](https://arviz-devs.github.io/arviz/), in particular, we'll show the posterior distribution for $\\rho$ for each chain along with the trace plot (i.e. the individual steps of each walker)"
   ]
  },
  {
   "cell_type": "code",
   "execution_count": 8,
   "metadata": {},
   "outputs": [
    {
     "name": "stderr",
     "output_type": "stream",
     "text": [
      "/anaconda3/lib/python3.7/site-packages/arviz/data/io_pymc3.py:91: FutureWarning: Using `from_pymc3` without the model will be deprecated in a future release. Not using the model will return less accurate and less useful results. Make sure you use the model argument or call from_pymc3 within a model context.\n",
      "  FutureWarning,\n"
     ]
    },
    {
     "data": {
      "image/png": "[encoded data removed]",
      "text/plain": [
       "<Figure size 1008x216 with 2 Axes>"
      ]
     },
     "metadata": {
      "needs_background": "light"
     },
     "output_type": "display_data"
    }
   ],
   "source": [
    "az.plot_trace(trace, figsize=(14, 3));"
   ]
  },
  {
   "cell_type": "markdown",
   "metadata": {},
   "source": [
    "We can see $\\rho$ is nicely distributed and has a single maxima, we can also see that all of the chains have restricted their movements enough for us to calculate things like the best value for $\\rho$ or a confidence interval. Let's calculate the mean, median, 1, 2 and 3 sigma confidence intervals for $\\rho$!"
   ]
  },
  {
   "cell_type": "code",
   "execution_count": 9,
   "metadata": {},
   "outputs": [],
   "source": [
    "med = np.median(trace['rho'])  # First the median\n",
    "mean = trace['rho'].mean()  # Now the mean"
   ]
  },
  {
   "cell_type": "markdown",
   "metadata": {},
   "source": [
    "For the credibility interval we'll use a function written by myself called, credibility_interval"
   ]
  },
  {
   "cell_type": "code",
   "execution_count": 10,
   "metadata": {},
   "outputs": [],
   "source": [
    "from scipy.special import erf\n",
    "\n",
    "def credibility_interval(post, alpha=1.):\n",
    "    \"\"\"Calculate bayesian credibility interval.\n",
    "    Parameters:\n",
    "    -----------\n",
    "    post : array_like\n",
    "        The posterior sample over which to calculate the bayesian credibility\n",
    "        interval.\n",
    "    alpha : float, optional\n",
    "        Confidence level.\n",
    "    Returns:\n",
    "    --------\n",
    "    med : float\n",
    "        Median of the posterior.\n",
    "    low : float\n",
    "        Lower part of the credibility interval.\n",
    "    up : float\n",
    "        Upper part of the credibility interval.\n",
    "    \"\"\"\n",
    "    z = erf(alpha / np.sqrt(2))\n",
    "\n",
    "    lower_percentile = 100 * (1 - z) / 2\n",
    "    upper_percentile = 100 * (1 + z) / 2\n",
    "    low, med, up = np.percentile(\n",
    "        post, [lower_percentile, 50, upper_percentile]\n",
    "    )\n",
    "    return med, low, up"
   ]
  },
  {
   "cell_type": "code",
   "execution_count": 11,
   "metadata": {},
   "outputs": [],
   "source": [
    "_, low1, up1 = credibility_interval(trace['rho'], alpha=1)\n",
    "_, low2, up2 = credibility_interval(trace['rho'], alpha=2)\n",
    "_, low3, up3 = credibility_interval(trace['rho'], alpha=3)"
   ]
  },
  {
   "cell_type": "markdown",
   "metadata": {},
   "source": [
    "And now we'll print everything"
   ]
  },
  {
   "cell_type": "code",
   "execution_count": 12,
   "metadata": {},
   "outputs": [
    {
     "name": "stdout",
     "output_type": "stream",
     "text": [
      "Rho summary:\n",
      "mean : 0.463\n",
      "median : 0.463\n",
      "1 sigma CI : [0.461, 0.465]\n",
      "2 sigma CI : [0.459, 0.467]\n",
      "3 sigma CI : [0.457, 0.469]\n"
     ]
    }
   ],
   "source": [
    "output = f'Rho summary:\\nmean : {mean:.3f}\\nmedian : {med:.3f}\\n1 sigma CI : [{low1:.3f}, {up1:.3f}]\\n'\n",
    "output += f'2 sigma CI : [{low2:.3f}, {up2:.3f}]\\n3 sigma CI : [{low3:.3f}, {up3:.3f}]'\n",
    "print(output)"
   ]
  },
  {
   "cell_type": "markdown",
   "metadata": {},
   "source": [
    "While this was a simplified example on parametrical statistics and bayesian inference, the context of the example is quite real. While more complex, Tokovinin did simulate stellar systems to find out if the simulations supported the Hipparcos observations that ~45% of stars are found in multiple systems. He got a value of 45.5% which he later approximated to 46%"
   ]
  },
  {
   "cell_type": "code",
   "execution_count": null,
   "metadata": {},
   "outputs": [],
   "source": []
  }
 ],
 "metadata": {
  "kernelspec": {
   "display_name": "Python 3",
   "language": "python",
   "name": "python3"
  },
  "language_info": {
   "codemirror_mode": {
    "name": "ipython",
    "version": 3
   },
   "file_extension": ".py",
   "mimetype": "text/x-python",
   "name": "python",
   "nbconvert_exporter": "python",
   "pygments_lexer": "ipython3",
   "version": "3.7.7"
  },
  "toc": {
   "base_numbering": 1,
   "nav_menu": {},
   "number_sections": true,
   "sideBar": true,
   "skip_h1_title": false,
   "title_cell": "Table of Contents",
   "title_sidebar": "Contents",
   "toc_cell": false,
   "toc_position": {},
   "toc_section_display": true,
   "toc_window_display": false
  }
 },
 "nbformat": 4,
 "nbformat_minor": 4
}
