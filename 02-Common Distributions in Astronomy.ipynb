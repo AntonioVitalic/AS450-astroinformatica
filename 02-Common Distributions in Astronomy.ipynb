{
 "cells": [
  {
   "cell_type": "code",
   "execution_count": 1,
   "metadata": {
    "jupyter": {
     "source_hidden": true
    }
   },
   "outputs": [],
   "source": [
    "%matplotlib inline\n",
    "\n",
    "import numpy as np\n",
    "import matplotlib.pyplot as plt\n",
    "\n",
    "plt.style.use(['ggplot', 'assets/class.mplstyle'])\n",
    "\n",
    "red = '#E24A33'\n",
    "blue = '#348ABD'\n",
    "purple = '#988ED5'\n",
    "gray = '#777777'\n",
    "yellow = '#FBC15E'\n",
    "green = '#8EBA42'\n",
    "pink = '#FFB5B8'"
   ]
  },
  {
   "cell_type": "markdown",
   "metadata": {},
   "source": [
    "# Common Statistical Distributions in Astronomy"
   ]
  },
  {
   "cell_type": "markdown",
   "metadata": {},
   "source": [
    "We have already explored the classical treatment of the gaussian distribution. Let's now look at other probability distributions that arise in typical astronomical calculations."
   ]
  },
  {
   "cell_type": "markdown",
   "metadata": {},
   "source": [
    "## 1. The Binomial Distribuition\n",
    "\n",
    "*Counting Problems.*\n",
    "\n",
    "An experiment has two possible outcomes, generally thought of as *success* or *failure*. Say the probability of success is $\\rho$. If you make the experiment $N$ times, what is the chance of getting $n$ *successes*?:\n",
    "\n",
    "$$ p(n) = {N\\choose n} \\rho^n (1-\\rho)^{N-n} $$\n",
    "\n",
    "Obviously this distribution takes discrete values. The mean and variance of the RV $n$ is calculated as:\n",
    "\n",
    "$$ E(n) = \\sum_{n=0}^N n p(n) = N \\times \\rho \\\\\n",
    "Var(n) = \\sum_{n=0}^N (n-N\\rho)^2 p(n) = N \\rho (1-\\rho)$$"
   ]
  },
  {
   "cell_type": "code",
   "execution_count": 2,
   "metadata": {},
   "outputs": [],
   "source": [
    "from scipy.stats import binom\n",
    "\n",
    "N = 20\n",
    "rho = 0.275\n",
    "\n",
    "binomial_rv = binom(N, rho)"
   ]
  },
  {
   "cell_type": "markdown",
   "metadata": {},
   "source": [
    "We can look at its moments:"
   ]
  },
  {
   "cell_type": "code",
   "execution_count": 3,
   "metadata": {},
   "outputs": [
    {
     "name": "stdout",
     "output_type": "stream",
     "text": [
      "E(x)=5.5, Var(x)=3.9875, Sigma(x)=0.225, K(x)=-0.049\n"
     ]
    }
   ],
   "source": [
    "E, V, S, K = binomial_rv.stats(moments='mvsk')\n",
    "print('E(x)={}, Var(x)={}, Sigma(x)={:.3f}, K(x)={:.3f}'.format(E, V, S, K))"
   ]
  },
  {
   "cell_type": "code",
   "execution_count": 4,
   "metadata": {},
   "outputs": [
    {
     "data": {
      "image/png": "[encoded data removed]",
      "text/plain": [
       "<Figure size 432x288 with 1 Axes>"
      ]
     },
     "metadata": {
      "needs_background": "light"
     },
     "output_type": "display_data"
    }
   ],
   "source": [
    "n_to_plot = np.arange(N+1)\n",
    "\n",
    "plt.plot(n_to_plot, binomial_rv.pmf(n_to_plot), color=red, ls='None', \n",
    "         marker='o')\n",
    "plt.vlines(n_to_plot, binomial_rv.pmf(n_to_plot), 0, color=red)\n",
    "\n",
    "mean = N * rho\n",
    "plt.axvline(mean, color=blue, label=\"E(n)\")\n",
    "\n",
    "plt.xlabel('$n$')\n",
    "plt.ylabel('PMF($n$)')\n",
    "\n",
    "_= plt.legend()"
   ]
  },
  {
   "cell_type": "markdown",
   "metadata": {},
   "source": [
    "---\n",
    "### Example 2\n",
    "\n",
    "We have studied a sample of 60 globular clusters and found that 10 of them have a black hole in their center. We want to know more about black holes in globular clusters so we design a new survey. We will study 20 globular clusters. In our proposal we must place a constrain on the number of new Black Holes we expect to find. For example, what is the chance we will find 10 or more BHs among our 20 GCs?"
   ]
  },
  {
   "cell_type": "markdown",
   "metadata": {},
   "source": [
    "### Solution\n",
    "\n",
    "If we assume that our original sample is representative, then we can say that $\\rho=10/60$. With that, we can calculate the PMF."
   ]
  },
  {
   "cell_type": "code",
   "execution_count": 5,
   "metadata": {},
   "outputs": [],
   "source": [
    "N = 20\n",
    "rho = 10 / 60\n",
    "\n",
    "bh_rv = binom(N, rho)"
   ]
  },
  {
   "cell_type": "code",
   "execution_count": 6,
   "metadata": {},
   "outputs": [
    {
     "data": {
      "text/plain": [
       "Text(0,0.5,'BH PMF($n$)')"
      ]
     },
     "execution_count": 6,
     "metadata": {},
     "output_type": "execute_result"
    },
    {
     "data": {
      "image/png": "[encoded data removed]",
      "text/plain": [
       "<Figure size 432x288 with 1 Axes>"
      ]
     },
     "metadata": {
      "needs_background": "light"
     },
     "output_type": "display_data"
    }
   ],
   "source": [
    "n_to_plot = np.arange(N+1)\n",
    "\n",
    "plt.plot(n_to_plot, bh_rv.pmf(n_to_plot), color=red, ls='None', \n",
    "         marker='o')\n",
    "plt.vlines(n_to_plot, bh_rv.pmf(n_to_plot), 0, color=red)\n",
    "\n",
    "plt.xlabel('$n$')\n",
    "plt.ylabel('BH PMF($n$)')"
   ]
  },
  {
   "cell_type": "code",
   "execution_count": 7,
   "metadata": {},
   "outputs": [
    {
     "name": "stdout",
     "output_type": "stream",
     "text": [
      "The chance of finding 10 BHs among 20 GCs is: 0.060%\n"
     ]
    }
   ],
   "source": [
    "chance_of_10_to_20 = bh_rv.pmf(range(10, 21))\n",
    "chance_of_10plus = np.sum(chance_of_10_to_20)\n",
    "\n",
    "print(\"The chance of finding 10 BHs among 20 GCs is: {:.3f}%\".format(100*chance_of_10plus))"
   ]
  },
  {
   "cell_type": "markdown",
   "metadata": {},
   "source": [
    "---"
   ]
  },
  {
   "cell_type": "markdown",
   "metadata": {},
   "source": [
    "## 2. The Poisson Distribuition\n",
    "\n",
    "*Photons in a detector.*\n",
    "\n",
    "In the limiting case of a Binomial Distribution, when $\\rho\\to0$ (very small chance) but $E(n)=(N\\times\\rho)\\to \\mu$, some finite value, the expression for the Binomial Distribution PMF approaches the expression:\n",
    "\n",
    "$$ p(n) = \\frac{\\mu^n}{n!}e^{-\\mu} $$\n",
    "\n",
    "which is the PMF for the Poisson Distribution. The mean and variance of the Possion distribution are both $\\mu$:\n",
    "\n",
    "$$ E(n) = Var(n) = \\mu $$\n",
    "\n"
   ]
  },
  {
   "cell_type": "code",
   "execution_count": 13,
   "metadata": {},
   "outputs": [],
   "source": [
    "from scipy.stats import poisson\n",
    "\n",
    "mu = 3.\n",
    "poisson_rv = poisson(mu)"
   ]
  },
  {
   "cell_type": "code",
   "execution_count": 14,
   "metadata": {},
   "outputs": [
    {
     "name": "stdout",
     "output_type": "stream",
     "text": [
      "E(x)=3.0, Var(x)=3.0, Sigma(x)=0.577, K(x)=0.333\n"
     ]
    }
   ],
   "source": [
    "E, V, S, K = poisson_rv.stats(moments='mvsk')\n",
    "print('E(x)={}, Var(x)={}, Sigma(x)={:.3f}, K(x)={:.3f}'.format(E, V, S, K))"
   ]
  },
  {
   "cell_type": "code",
   "execution_count": 17,
   "metadata": {},
   "outputs": [
    {
     "data": {
      "image/png": "[encoded data removed]",
      "text/plain": [
       "<Figure size 432x288 with 1 Axes>"
      ]
     },
     "metadata": {
      "needs_background": "light"
     },
     "output_type": "display_data"
    }
   ],
   "source": [
    "N_max = 100\n",
    "n_to_plot = np.arange(N)\n",
    "\n",
    "plt.plot(n_to_plot, poisson_rv.pmf(n_to_plot), color=red, ls='None', \n",
    "         marker='o', label='$\\mu=3$')\n",
    "plt.vlines(n_to_plot, poisson_rv.pmf(n_to_plot), 0, color=red)\n",
    "\n",
    "plt.xlabel('$n$')\n",
    "plt.ylabel('PMF($n$)')\n",
    "\n",
    "_= plt.legend()"
   ]
  },
  {
   "cell_type": "markdown",
   "metadata": {},
   "source": [
    "---\n",
    "### Example 3\n",
    "\n",
    "The chances of a given photon arriving to a detector during an interval of time is small (that is, $\\rho$ is small for the Binomial). But there are many photons so on average we get $\\mu$ photons per interval. The arrivals of successive photons are also independent (roughly speaking).\n",
    "\n",
    "\n"
   ]
  },
  {
   "cell_type": "code",
   "execution_count": null,
   "metadata": {},
   "outputs": [],
   "source": []
  },
  {
   "cell_type": "code",
   "execution_count": null,
   "metadata": {},
   "outputs": [],
   "source": []
  },
  {
   "cell_type": "code",
   "execution_count": null,
   "metadata": {},
   "outputs": [],
   "source": []
  },
  {
   "cell_type": "code",
   "execution_count": null,
   "metadata": {},
   "outputs": [],
   "source": []
  },
  {
   "cell_type": "code",
   "execution_count": null,
   "metadata": {},
   "outputs": [],
   "source": []
  },
  {
   "cell_type": "code",
   "execution_count": null,
   "metadata": {},
   "outputs": [],
   "source": []
  },
  {
   "cell_type": "code",
   "execution_count": null,
   "metadata": {},
   "outputs": [],
   "source": []
  },
  {
   "cell_type": "code",
   "execution_count": null,
   "metadata": {},
   "outputs": [],
   "source": []
  },
  {
   "cell_type": "code",
   "execution_count": null,
   "metadata": {},
   "outputs": [],
   "source": []
  }
 ],
 "metadata": {
  "kernelspec": {
   "display_name": "Python 3",
   "language": "python",
   "name": "python3"
  },
  "language_info": {
   "codemirror_mode": {
    "name": "ipython",
    "version": 3
   },
   "file_extension": ".py",
   "mimetype": "text/x-python",
   "name": "python",
   "nbconvert_exporter": "python",
   "pygments_lexer": "ipython3",
   "version": "3.6.7"
  }
 },
 "nbformat": 4,
 "nbformat_minor": 4
}
