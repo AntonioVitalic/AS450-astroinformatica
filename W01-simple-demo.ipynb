{
 "cells": [
  {
   "cell_type": "markdown",
   "metadata": {},
   "source": [
    "# Recap of Classical Parameter Estimation and Confidence Intervals for Gaussian Distributions"
   ]
  },
  {
   "cell_type": "code",
   "execution_count": 1,
   "metadata": {},
   "outputs": [],
   "source": [
    "import numpy as np\n",
    "from scipy.stats import norm"
   ]
  },
  {
   "cell_type": "markdown",
   "metadata": {},
   "source": [
    "Alwas important to fix the random state for reproducibility"
   ]
  },
  {
   "cell_type": "code",
   "execution_count": 2,
   "metadata": {},
   "outputs": [],
   "source": [
    "np.random.seed(6563)"
   ]
  },
  {
   "cell_type": "markdown",
   "metadata": {},
   "source": [
    "## Creating a random sample"
   ]
  },
  {
   "cell_type": "code",
   "execution_count": 3,
   "metadata": {},
   "outputs": [],
   "source": [
    "rv = norm(loc=5.5, scale=2.5)"
   ]
  },
  {
   "cell_type": "code",
   "execution_count": 4,
   "metadata": {},
   "outputs": [],
   "source": [
    "sample = rv.rvs(size=8)"
   ]
  },
  {
   "cell_type": "code",
   "execution_count": 5,
   "metadata": {},
   "outputs": [
    {
     "name": "stdout",
     "output_type": "stream",
     "text": [
      "[-0.5262254  10.34254082  5.96780767  6.50309614  2.3285979   6.21960724\n",
      "  8.32043191  3.75429883]\n"
     ]
    }
   ],
   "source": [
    "print(sample)"
   ]
  },
  {
   "cell_type": "markdown",
   "metadata": {},
   "source": [
    "# t-Student eqs."
   ]
  },
  {
   "cell_type": "markdown",
   "metadata": {},
   "source": [
    "$$\\frac{\\bar{\\mu} - \\mu}{\\bar{\\sigma}/\\sqrt{N}} \\sim t_{N-1}$$\n",
    "\n",
    "$$\\mu = \\bar{\\mu} -  t_{N-1} \\frac{\\bar{\\sigma}}{\\sqrt{N}}$$"
   ]
  },
  {
   "cell_type": "code",
   "execution_count": 6,
   "metadata": {},
   "outputs": [],
   "source": [
    "mean_est = np.mean(sample)\n",
    "std_est = np.std(sample, ddof=1)"
   ]
  },
  {
   "cell_type": "code",
   "execution_count": 7,
   "metadata": {},
   "outputs": [
    {
     "name": "stdout",
     "output_type": "stream",
     "text": [
      "5.363769389502728\n",
      "3.4313700805078944\n"
     ]
    }
   ],
   "source": [
    "print(mean_est)\n",
    "print(std_est)"
   ]
  },
  {
   "cell_type": "code",
   "execution_count": 8,
   "metadata": {},
   "outputs": [],
   "source": [
    "from scipy.stats import t\n",
    "\n",
    "t_rv = t(len(sample)-1)"
   ]
  },
  {
   "cell_type": "code",
   "execution_count": 9,
   "metadata": {},
   "outputs": [
    {
     "name": "stdout",
     "output_type": "stream",
     "text": [
      "-1.0702873962739643\n",
      "1.070287396273964\n"
     ]
    }
   ],
   "source": [
    "t_low, t_up = t_rv.ppf([0.16, 0.84])\n",
    "print(t_low)\n",
    "print(t_up)"
   ]
  },
  {
   "cell_type": "code",
   "execution_count": 11,
   "metadata": {},
   "outputs": [
    {
     "name": "stdout",
     "output_type": "stream",
     "text": [
      "4.065326125051029 6.662212653954428\n"
     ]
    }
   ],
   "source": [
    "mu_low = mean_est - t_up * std_est / np.sqrt(len(sample))\n",
    "mu_up = mean_est - t_low * std_est / np.sqrt(len(sample))\n",
    "\n",
    "print(mu_low, mu_up)"
   ]
  },
  {
   "cell_type": "markdown",
   "metadata": {},
   "source": [
    "## What happens with a larger sample?"
   ]
  },
  {
   "cell_type": "code",
   "execution_count": 12,
   "metadata": {},
   "outputs": [],
   "source": [
    "sample = rv.rvs(size=16)"
   ]
  },
  {
   "cell_type": "code",
   "execution_count": 13,
   "metadata": {},
   "outputs": [
    {
     "data": {
      "text/plain": [
       "array([7.42865476, 5.19305179, 3.36856561, 7.76427963, 7.57003511,\n",
       "       5.00105339, 3.21964277, 1.41841386, 6.28311883, 6.74635959,\n",
       "       8.41139216, 5.92073382, 3.97446628, 6.76148967, 6.12544691,\n",
       "       6.41113714])"
      ]
     },
     "execution_count": 13,
     "metadata": {},
     "output_type": "execute_result"
    }
   ],
   "source": [
    "sample"
   ]
  },
  {
   "cell_type": "code",
   "execution_count": 14,
   "metadata": {},
   "outputs": [
    {
     "name": "stdout",
     "output_type": "stream",
     "text": [
      "5.232366650427018 6.217363512548744\n"
     ]
    }
   ],
   "source": [
    "t_rv = t(len(sample)-1)\n",
    "t_low, t_up = t_rv.ppf([0.16, 0.84])\n",
    "mean_est = np.mean(sample)\n",
    "std_est = np.std(sample, ddof=1)\n",
    "\n",
    "mu_low = mean_est - t_up * std_est / np.sqrt(len(sample))\n",
    "mu_up = mean_est - t_low * std_est / np.sqrt(len(sample))\n",
    "\n",
    "print(mu_low, mu_up)"
   ]
  },
  {
   "cell_type": "markdown",
   "metadata": {},
   "source": [
    "We get narrower confidence intervals."
   ]
  },
  {
   "cell_type": "markdown",
   "metadata": {},
   "source": [
    "# Outliers"
   ]
  },
  {
   "cell_type": "markdown",
   "metadata": {},
   "source": [
    "Let's add a couple of outliers by hand to see what happens to our analysis."
   ]
  },
  {
   "cell_type": "code",
   "execution_count": 16,
   "metadata": {},
   "outputs": [],
   "source": [
    "sample = np.append(sample, [50., 55.])"
   ]
  },
  {
   "cell_type": "code",
   "execution_count": 17,
   "metadata": {},
   "outputs": [
    {
     "data": {
      "text/plain": [
       "array([ 7.42865476,  5.19305179,  3.36856561,  7.76427963,  7.57003511,\n",
       "        5.00105339,  3.21964277,  1.41841386,  6.28311883,  6.74635959,\n",
       "        8.41139216,  5.92073382,  3.97446628,  6.76148967,  6.12544691,\n",
       "        6.41113714, 50.        , 55.        ])"
      ]
     },
     "execution_count": 17,
     "metadata": {},
     "output_type": "execute_result"
    }
   ],
   "source": [
    "sample"
   ]
  },
  {
   "cell_type": "code",
   "execution_count": 20,
   "metadata": {},
   "outputs": [
    {
     "data": {
      "image/png": "[encoded data removed]",
      "text/plain": [
       "<Figure size 432x288 with 1 Axes>"
      ]
     },
     "metadata": {
      "needs_background": "light"
     },
     "output_type": "display_data"
    }
   ],
   "source": [
    "import matplotlib.pyplot as plt\n",
    "\n",
    "plt.hist(sample)\n",
    "plt.show()"
   ]
  },
  {
   "cell_type": "code",
   "execution_count": 21,
   "metadata": {},
   "outputs": [
    {
     "name": "stdout",
     "output_type": "stream",
     "text": [
      "7.23824106835153 14.605963520960255\n"
     ]
    }
   ],
   "source": [
    "t_rv = t(len(sample)-1)\n",
    "t_low, t_up = t_rv.ppf([0.16, 0.84])\n",
    "mean_est = np.mean(sample)\n",
    "std_est = np.std(sample, ddof=1)\n",
    "\n",
    "mu_low = mean_est - t_up * std_est / np.sqrt(len(sample))\n",
    "mu_up = mean_est - t_low * std_est / np.sqrt(len(sample))\n",
    "\n",
    "print(mu_low, mu_up)"
   ]
  },
  {
   "cell_type": "code",
   "execution_count": 22,
   "metadata": {},
   "outputs": [
    {
     "name": "stdout",
     "output_type": "stream",
     "text": [
      "361.8759945598762\n"
     ]
    }
   ],
   "source": [
    "n_pix = np.pi * (2.5 / 2 / 0.3)**2 \n",
    "std = np.sqrt(n_pix) * 49\n",
    "print(std)"
   ]
  },
  {
   "cell_type": "markdown",
   "metadata": {},
   "source": [
    "## So, BE CAREFUL WITH OUTLIERS!"
   ]
  }
 ],
 "metadata": {
  "kernelspec": {
   "display_name": "Python 3",
   "language": "python",
   "name": "python3"
  },
  "language_info": {
   "codemirror_mode": {
    "name": "ipython",
    "version": 3
   },
   "file_extension": ".py",
   "mimetype": "text/x-python",
   "name": "python",
   "nbconvert_exporter": "python",
   "pygments_lexer": "ipython3",
   "version": "3.6.7"
  }
 },
 "nbformat": 4,
 "nbformat_minor": 4
}
