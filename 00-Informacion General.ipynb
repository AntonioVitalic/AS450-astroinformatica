{
 "cells": [
  {
   "cell_type": "markdown",
   "metadata": {},
   "source": [
    "<div style=\"text-align: right\"><b>Mon 27-07-2019</b></div>"
   ]
  },
  {
   "cell_type": "markdown",
   "metadata": {},
   "source": [
    "# AS4501 – Astroinformática 2019B"
   ]
  },
  {
   "cell_type": "markdown",
   "metadata": {},
   "source": [
    "## Instructores:\n",
    "\n",
    "- **Valentino González** : 8 Clases; Estadísticas para Astronomía, Datos Astronómicos.\n",
    "\n",
    "- **Francisco Forster** : 11 Clases; Aprendizaje Computacional, Herramientas de Análisis temporal y espacial. Otros tópicos especiales. \n",
    "\n",
    "- **Juan Carlos Maureira** (por confirmar) : 3 Clases, High Performace Computing (HPC)"
   ]
  },
  {
   "cell_type": "markdown",
   "metadata": {},
   "source": [
    "## Evaluaciones\n",
    "\n",
    "- **Ejercicios (NE).** 10 min, al principio de todas las clases. Pueden eliminar el 10%. Si rinden más del 85% del total de ejercicios, entonces pueden eliminar 15%.\n",
    "\n",
    "- **Tareas (NT).** 3 durante el semestre.\n",
    "\n",
    "- **Proyecto Final (PF).** Desarrollado durante todo el curso pero especial énfasis durante las últimas 4 semanas. Incluye presentación final.\n",
    "\n",
    "La nota final del curso se calcula:\n",
    "\n",
    "$$NF = 0.3 \\times NE + 0.3 \\times NT + 0.4 \\times PF $$"
   ]
  },
  {
   "cell_type": "markdown",
   "metadata": {},
   "source": [
    "## Bibliografía\n",
    "\n",
    "### 1. (Libro Guía) Statistics, Data Mining, and Machine Learning in Astronomy, 2014; Ivezić, Connolly, VanderPlas, and Gray.\n",
    "\n",
    "Includes a `python` module and a large repository of useful stuff: [https://github.com/astroML](https://github.com/astroML)\n",
    "\n",
    "<img src=\"images/00-ivezic.jpg\" height=\"200px\"></img>\n",
    "\n",
    "### 2. Modern Statistical Methods for Astronomy, With R Applications, 2012; Fiegelson and Babu.\n",
    "\n",
    "<img src=\"images/00-fiegelson.jpg\" height=\"200px\"></img>\n",
    "\n",
    "### 3. Practical Statistics for Astronomers (Cambridge Observing Handbooks for Research Astronomers), 2003; Wall and Jenkins. Also 2nd edition from 2012.\n",
    "\n",
    "<img src=\"images/00-practical.jpg\" height=\"200px\"></img>\n",
    "\n",
    "### 4. Numerical Recipes (any edition, older versions are free in pdf).\n",
    "\n",
    "<img src=\"images/00-nr.jpg\" height=\"200px\"></img>"
   ]
  }
 ],
 "metadata": {
  "kernelspec": {
   "display_name": "Python 3",
   "language": "python",
   "name": "python3"
  },
  "language_info": {
   "codemirror_mode": {
    "name": "ipython",
    "version": 3
   },
   "file_extension": ".py",
   "mimetype": "text/x-python",
   "name": "python",
   "nbconvert_exporter": "python",
   "pygments_lexer": "ipython3",
   "version": "3.7.3"
  }
 },
 "nbformat": 4,
 "nbformat_minor": 4
}
